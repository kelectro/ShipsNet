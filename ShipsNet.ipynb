{
 "cells": [
  {
   "cell_type": "code",
   "execution_count": null,
   "metadata": {},
   "outputs": [],
   "source": [
    "import tensorflow as tf\n",
    "from tensorflow.keras.models import Sequential\n",
    "from tensorflow.keras.layers import Dense, Dropout,Activation,Flatten ,Conv2D, MaxPooling2D\n",
    "from sklearn.model_selection import train_test_split\n",
    "import numpy as np\n",
    "import os\n",
    "import random \n",
    "import matplotlib.pyplot as plt\n",
    "import cv2\n"
   ]
  },
  {
   "cell_type": "code",
   "execution_count": null,
   "metadata": {},
   "outputs": [],
   "source": [
    "#step 1 organise my data\n",
    "directory =\"/...../...../\"\n",
    "#labels = [\"0\",\"1\"]\n",
    "size=50\n",
    "data=os.listdir(directory)\n",
    "\n",
    "# print(os.path.basename(image))\n",
    "training_data=[]\n",
    "def create_data():\n",
    "    for image in data:\n",
    "        try :            \n",
    "            y=[os.path.basename(image[0])] #basename=filename so [0] is first character\n",
    "            img_array=cv2.imread(os.path.join(directory,image),cv2.IMREAD_GRAYSCALE)\n",
    "            img_array=cv2.resize(img_array,(size,size))\n",
    "            training_data.append([img_array,y])\n",
    "        except Exception as e:\n",
    "            pass\n",
    "                  \n",
    "    \n",
    "    \n",
    "            \n",
    "            \n"
   ]
  },
  {
   "cell_type": "code",
   "execution_count": null,
   "metadata": {},
   "outputs": [],
   "source": [
    "create_data()\n",
    "random.shuffle(training_data)\n",
    "# print(len(training_data[]))"
   ]
  },
  {
   "cell_type": "code",
   "execution_count": null,
   "metadata": {},
   "outputs": [],
   "source": [
    "# saving our trained data for further uses if required \n",
    "np.save('train_data.npy', training_data) \n",
    "# print(len(training_data))"
   ]
  },
  {
   "cell_type": "code",
   "execution_count": null,
   "metadata": {},
   "outputs": [],
   "source": [
    "x=[]\n",
    "y=[]\n",
    "for features, labels in training_data:\n",
    "    x.append(features)\n",
    "    y.append(labels)\n",
    "x=np.array(x).reshape(-1,size,size,1)\n",
    "\n",
    "x=x/255.0\n",
    "x= np.asarray(x)\n",
    "y= np.asarray(y)\n",
    "# print(len(y))"
   ]
  },
  {
   "cell_type": "code",
   "execution_count": null,
   "metadata": {},
   "outputs": [],
   "source": [
    "def create_model():  \n",
    "  \n",
    "  #create model\n",
    "  model=Sequential()\n",
    "  model.add(Conv2D(64, (3,3),input_shape=x.shape[1:]))  #48x48x64\n",
    "  model.add(Activation(\"relu\"))\n",
    "  model.add(MaxPooling2D(pool_size=(2,2)))  #24x24x64\n",
    "  #model.add(Dropout(0.5))\n",
    "\n",
    "  model.add(Conv2D(64,(3,3)))  # 22x22x64\n",
    "  model.add(Activation(\"relu\"))\n",
    "  model.add(MaxPooling2D(pool_size=(2,2)))  #11x11#64\n",
    "  #model.add(Dropout(0.5))\n",
    "\n",
    "  model.add(Conv2D(64,(3,3)))  #9x9x64\n",
    "  model.add(Activation(\"relu\"))\n",
    "  model.add(MaxPooling2D(pool_size=(2,2)))  # 4x4x64\n",
    " # model.add(Dropout(0.5))\n",
    "\n",
    "  model.add(Conv2D(64,(3,3)))  # 2x2x64\n",
    "  model.add(Activation(\"relu\"))\n",
    "  model.add(MaxPooling2D(pool_size=(2,2)))  #1x1x64\n",
    "  #model.add(Dropout(0.5))\n",
    "\n",
    "  #conv is a 2d and dense is 1d data \n",
    "  model.add(Flatten())\n",
    "  model.add(Dense(64))\n",
    "\n",
    "  \n",
    "\n",
    "  model.add(Dense(1))\n",
    "  model.add(Activation(\"sigmoid\"))\n",
    "\n",
    "  model.compile(loss=\"binary_crossentropy\",\n",
    "              optimizer=\"adam\",\n",
    "              metrics=['accuracy'])\n",
    "  \n",
    "  return model"
   ]
  },
  {
   "cell_type": "code",
   "execution_count": null,
   "metadata": {},
   "outputs": [],
   "source": [
    "(trainX, testX, trainY, testY) = train_test_split(x, y, test_size=0.2, shuffle=True)\n",
    "model = create_model()\n",
    "h=model.fit(trainX, trainY, batch_size=64, epochs=50, validation_data=(testX, testY))"
   ]
  },
  {
   "cell_type": "code",
   "execution_count": null,
   "metadata": {},
   "outputs": [],
   "source": [
    "plt.figure(figsize=(20,5)) \n",
    "\n",
    "plt.subplot(121) \n",
    "plt.plot(h.history['loss'], label='Train loss') \n",
    "plt.plot(h.history['val_loss'], label='Test loss') \n",
    "plt.xlabel('Epochs') \n",
    "plt.legend() \n",
    "\n",
    "plt.subplot(122) \n",
    "plt.plot(h.history['acc'], label='Train acc') \n",
    "plt.plot(h.history['val_acc'],label='Test acc') \n",
    "plt.xlabel('Epochs') \n",
    "plt.legend() \n",
    "plt.show() \n",
    "# print(f'Final test accuracy: {h.history[\"val_accuracy\"][-1]:.2f}') "
   ]
  },
  {
   "cell_type": "code",
   "execution_count": null,
   "metadata": {},
   "outputs": [],
   "source": []
  }
 ],
 "metadata": {
  "kernelspec": {
   "display_name": "Python 3",
   "language": "python",
   "name": "python3"
  },
  "language_info": {
   "codemirror_mode": {
    "name": "ipython",
    "version": 3
   },
   "file_extension": ".py",
   "mimetype": "text/x-python",
   "name": "python",
   "nbconvert_exporter": "python",
   "pygments_lexer": "ipython3",
   "version": "3.6.0"
  },
  "widgets": {
   "application/vnd.jupyter.widget-state+json": {
    "state": {},
    "version_major": 2,
    "version_minor": 0
   }
  }
 },
 "nbformat": 4,
 "nbformat_minor": 2
}
